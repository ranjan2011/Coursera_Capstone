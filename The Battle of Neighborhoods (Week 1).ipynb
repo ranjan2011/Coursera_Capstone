{
 "cells": [
  {
   "cell_type": "markdown",
   "metadata": {},
   "source": [
    "# INTRODUCTION / BUSINESS PROBLEM:"
   ]
  },
  {
   "cell_type": "markdown",
   "metadata": {},
   "source": [
    "* TO analysis the toronto neighbour data and based on that data, we need to find out if any person is getting job offer in that paricular location so whether that person should move to that location or not ? "
   ]
  },
  {
   "cell_type": "markdown",
   "metadata": {},
   "source": [
    "# SOURCE DATA : Wikipedia \n",
    "https://en.wikipedia.org/wiki/List_of_postal_codes_of_Canada:_M\n",
    "To provide the stakeholders the necessary information about data :"
   ]
  },
  {
   "cell_type": "markdown",
   "metadata": {},
   "source": [
    "# DATA COLLECTION "
   ]
  },
  {
   "cell_type": "code",
   "execution_count": 1,
   "metadata": {},
   "outputs": [],
   "source": [
    "import pandas as pd\n",
    "import requests\n",
    "from bs4 import BeautifulSoup\n",
    "req = requests.get(\"https://en.wikipedia.org/wiki/List_of_postal_codes_of_Canada:_M\")\n",
    "soup = BeautifulSoup(req.content,'lxml')\n",
    "table = soup.find_all('table')[0]\n",
    "df = pd.read_html(str(table))\n",
    "neighborhood=pd.DataFrame(df[0])"
   ]
  },
  {
   "cell_type": "code",
   "execution_count": 2,
   "metadata": {},
   "outputs": [
    {
     "data": {
      "text/html": [
       "<div>\n",
       "<style scoped>\n",
       "    .dataframe tbody tr th:only-of-type {\n",
       "        vertical-align: middle;\n",
       "    }\n",
       "\n",
       "    .dataframe tbody tr th {\n",
       "        vertical-align: top;\n",
       "    }\n",
       "\n",
       "    .dataframe thead th {\n",
       "        text-align: right;\n",
       "    }\n",
       "</style>\n",
       "<table border=\"1\" class=\"dataframe\">\n",
       "  <thead>\n",
       "    <tr style=\"text-align: right;\">\n",
       "      <th></th>\n",
       "      <th>0</th>\n",
       "      <th>1</th>\n",
       "      <th>2</th>\n",
       "    </tr>\n",
       "  </thead>\n",
       "  <tbody>\n",
       "    <tr>\n",
       "      <th>0</th>\n",
       "      <td>Postal code</td>\n",
       "      <td>Borough</td>\n",
       "      <td>Neighborhood</td>\n",
       "    </tr>\n",
       "    <tr>\n",
       "      <th>1</th>\n",
       "      <td>M1A</td>\n",
       "      <td>Not assigned</td>\n",
       "      <td>NaN</td>\n",
       "    </tr>\n",
       "    <tr>\n",
       "      <th>2</th>\n",
       "      <td>M2A</td>\n",
       "      <td>Not assigned</td>\n",
       "      <td>NaN</td>\n",
       "    </tr>\n",
       "    <tr>\n",
       "      <th>3</th>\n",
       "      <td>M3A</td>\n",
       "      <td>North York</td>\n",
       "      <td>Parkwoods</td>\n",
       "    </tr>\n",
       "    <tr>\n",
       "      <th>4</th>\n",
       "      <td>M4A</td>\n",
       "      <td>North York</td>\n",
       "      <td>Victoria Village</td>\n",
       "    </tr>\n",
       "  </tbody>\n",
       "</table>\n",
       "</div>"
      ],
      "text/plain": [
       "             0             1                 2\n",
       "0  Postal code       Borough      Neighborhood\n",
       "1          M1A  Not assigned               NaN\n",
       "2          M2A  Not assigned               NaN\n",
       "3          M3A    North York         Parkwoods\n",
       "4          M4A    North York  Victoria Village"
      ]
     },
     "execution_count": 2,
     "metadata": {},
     "output_type": "execute_result"
    }
   ],
   "source": [
    "neighborhood.head()"
   ]
  },
  {
   "cell_type": "code",
   "execution_count": 3,
   "metadata": {},
   "outputs": [
    {
     "data": {
      "text/plain": [
       "(181, 3)"
      ]
     },
     "execution_count": 3,
     "metadata": {},
     "output_type": "execute_result"
    }
   ],
   "source": [
    "neighborhood.shape"
   ]
  },
  {
   "cell_type": "code",
   "execution_count": 4,
   "metadata": {},
   "outputs": [],
   "source": [
    "neighborhood.columns =['Postal code', 'Borough','Neighborhood']"
   ]
  },
  {
   "cell_type": "code",
   "execution_count": 5,
   "metadata": {},
   "outputs": [
    {
     "data": {
      "text/html": [
       "<div>\n",
       "<style scoped>\n",
       "    .dataframe tbody tr th:only-of-type {\n",
       "        vertical-align: middle;\n",
       "    }\n",
       "\n",
       "    .dataframe tbody tr th {\n",
       "        vertical-align: top;\n",
       "    }\n",
       "\n",
       "    .dataframe thead th {\n",
       "        text-align: right;\n",
       "    }\n",
       "</style>\n",
       "<table border=\"1\" class=\"dataframe\">\n",
       "  <thead>\n",
       "    <tr style=\"text-align: right;\">\n",
       "      <th></th>\n",
       "      <th>Postal code</th>\n",
       "      <th>Borough</th>\n",
       "      <th>Neighborhood</th>\n",
       "    </tr>\n",
       "  </thead>\n",
       "  <tbody>\n",
       "    <tr>\n",
       "      <th>0</th>\n",
       "      <td>Postal code</td>\n",
       "      <td>Borough</td>\n",
       "      <td>Neighborhood</td>\n",
       "    </tr>\n",
       "    <tr>\n",
       "      <th>1</th>\n",
       "      <td>M1A</td>\n",
       "      <td>Not assigned</td>\n",
       "      <td>NaN</td>\n",
       "    </tr>\n",
       "    <tr>\n",
       "      <th>2</th>\n",
       "      <td>M2A</td>\n",
       "      <td>Not assigned</td>\n",
       "      <td>NaN</td>\n",
       "    </tr>\n",
       "    <tr>\n",
       "      <th>3</th>\n",
       "      <td>M3A</td>\n",
       "      <td>North York</td>\n",
       "      <td>Parkwoods</td>\n",
       "    </tr>\n",
       "    <tr>\n",
       "      <th>4</th>\n",
       "      <td>M4A</td>\n",
       "      <td>North York</td>\n",
       "      <td>Victoria Village</td>\n",
       "    </tr>\n",
       "  </tbody>\n",
       "</table>\n",
       "</div>"
      ],
      "text/plain": [
       "   Postal code       Borough      Neighborhood\n",
       "0  Postal code       Borough      Neighborhood\n",
       "1          M1A  Not assigned               NaN\n",
       "2          M2A  Not assigned               NaN\n",
       "3          M3A    North York         Parkwoods\n",
       "4          M4A    North York  Victoria Village"
      ]
     },
     "execution_count": 5,
     "metadata": {},
     "output_type": "execute_result"
    }
   ],
   "source": [
    "neighborhood.head()"
   ]
  },
  {
   "cell_type": "code",
   "execution_count": 6,
   "metadata": {},
   "outputs": [
    {
     "data": {
      "text/plain": [
       "(181, 3)"
      ]
     },
     "execution_count": 6,
     "metadata": {},
     "output_type": "execute_result"
    }
   ],
   "source": [
    "neighborhood.shape"
   ]
  },
  {
   "cell_type": "code",
   "execution_count": 7,
   "metadata": {},
   "outputs": [],
   "source": [
    "toronto_df=neighborhood.drop([neighborhood.index[0]])"
   ]
  },
  {
   "cell_type": "code",
   "execution_count": 8,
   "metadata": {},
   "outputs": [
    {
     "data": {
      "text/html": [
       "<div>\n",
       "<style scoped>\n",
       "    .dataframe tbody tr th:only-of-type {\n",
       "        vertical-align: middle;\n",
       "    }\n",
       "\n",
       "    .dataframe tbody tr th {\n",
       "        vertical-align: top;\n",
       "    }\n",
       "\n",
       "    .dataframe thead th {\n",
       "        text-align: right;\n",
       "    }\n",
       "</style>\n",
       "<table border=\"1\" class=\"dataframe\">\n",
       "  <thead>\n",
       "    <tr style=\"text-align: right;\">\n",
       "      <th></th>\n",
       "      <th>Postal code</th>\n",
       "      <th>Borough</th>\n",
       "      <th>Neighborhood</th>\n",
       "    </tr>\n",
       "  </thead>\n",
       "  <tbody>\n",
       "    <tr>\n",
       "      <th>1</th>\n",
       "      <td>M1A</td>\n",
       "      <td>Not assigned</td>\n",
       "      <td>NaN</td>\n",
       "    </tr>\n",
       "    <tr>\n",
       "      <th>2</th>\n",
       "      <td>M2A</td>\n",
       "      <td>Not assigned</td>\n",
       "      <td>NaN</td>\n",
       "    </tr>\n",
       "    <tr>\n",
       "      <th>3</th>\n",
       "      <td>M3A</td>\n",
       "      <td>North York</td>\n",
       "      <td>Parkwoods</td>\n",
       "    </tr>\n",
       "    <tr>\n",
       "      <th>4</th>\n",
       "      <td>M4A</td>\n",
       "      <td>North York</td>\n",
       "      <td>Victoria Village</td>\n",
       "    </tr>\n",
       "    <tr>\n",
       "      <th>5</th>\n",
       "      <td>M5A</td>\n",
       "      <td>Downtown Toronto</td>\n",
       "      <td>Regent Park / Harbourfront</td>\n",
       "    </tr>\n",
       "  </tbody>\n",
       "</table>\n",
       "</div>"
      ],
      "text/plain": [
       "  Postal code           Borough                Neighborhood\n",
       "1         M1A      Not assigned                         NaN\n",
       "2         M2A      Not assigned                         NaN\n",
       "3         M3A        North York                   Parkwoods\n",
       "4         M4A        North York            Victoria Village\n",
       "5         M5A  Downtown Toronto  Regent Park / Harbourfront"
      ]
     },
     "execution_count": 8,
     "metadata": {},
     "output_type": "execute_result"
    }
   ],
   "source": [
    "toronto_df.head()"
   ]
  },
  {
   "cell_type": "code",
   "execution_count": 9,
   "metadata": {},
   "outputs": [
    {
     "data": {
      "text/plain": [
       "(180, 3)"
      ]
     },
     "execution_count": 9,
     "metadata": {},
     "output_type": "execute_result"
    }
   ],
   "source": [
    "toronto_df.shape"
   ]
  },
  {
   "cell_type": "code",
   "execution_count": 10,
   "metadata": {},
   "outputs": [],
   "source": [
    "toronto_df.drop(toronto_df.index[toronto_df['Borough'] ==\"Not assigned\"], inplace = True)"
   ]
  },
  {
   "cell_type": "code",
   "execution_count": 11,
   "metadata": {},
   "outputs": [
    {
     "data": {
      "text/plain": [
       "(103, 3)"
      ]
     },
     "execution_count": 11,
     "metadata": {},
     "output_type": "execute_result"
    }
   ],
   "source": [
    "toronto_df.shape"
   ]
  },
  {
   "cell_type": "code",
   "execution_count": 12,
   "metadata": {},
   "outputs": [
    {
     "data": {
      "text/html": [
       "<div>\n",
       "<style scoped>\n",
       "    .dataframe tbody tr th:only-of-type {\n",
       "        vertical-align: middle;\n",
       "    }\n",
       "\n",
       "    .dataframe tbody tr th {\n",
       "        vertical-align: top;\n",
       "    }\n",
       "\n",
       "    .dataframe thead th {\n",
       "        text-align: right;\n",
       "    }\n",
       "</style>\n",
       "<table border=\"1\" class=\"dataframe\">\n",
       "  <thead>\n",
       "    <tr style=\"text-align: right;\">\n",
       "      <th></th>\n",
       "      <th>Postal code</th>\n",
       "      <th>Borough</th>\n",
       "      <th>Neighborhood</th>\n",
       "    </tr>\n",
       "  </thead>\n",
       "  <tbody>\n",
       "    <tr>\n",
       "      <th>3</th>\n",
       "      <td>M3A</td>\n",
       "      <td>North York</td>\n",
       "      <td>Parkwoods</td>\n",
       "    </tr>\n",
       "    <tr>\n",
       "      <th>4</th>\n",
       "      <td>M4A</td>\n",
       "      <td>North York</td>\n",
       "      <td>Victoria Village</td>\n",
       "    </tr>\n",
       "    <tr>\n",
       "      <th>5</th>\n",
       "      <td>M5A</td>\n",
       "      <td>Downtown Toronto</td>\n",
       "      <td>Regent Park / Harbourfront</td>\n",
       "    </tr>\n",
       "    <tr>\n",
       "      <th>6</th>\n",
       "      <td>M6A</td>\n",
       "      <td>North York</td>\n",
       "      <td>Lawrence Manor / Lawrence Heights</td>\n",
       "    </tr>\n",
       "    <tr>\n",
       "      <th>7</th>\n",
       "      <td>M7A</td>\n",
       "      <td>Downtown Toronto</td>\n",
       "      <td>Queen's Park / Ontario Provincial Government</td>\n",
       "    </tr>\n",
       "  </tbody>\n",
       "</table>\n",
       "</div>"
      ],
      "text/plain": [
       "  Postal code           Borough                                  Neighborhood\n",
       "3         M3A        North York                                     Parkwoods\n",
       "4         M4A        North York                              Victoria Village\n",
       "5         M5A  Downtown Toronto                    Regent Park / Harbourfront\n",
       "6         M6A        North York             Lawrence Manor / Lawrence Heights\n",
       "7         M7A  Downtown Toronto  Queen's Park / Ontario Provincial Government"
      ]
     },
     "execution_count": 12,
     "metadata": {},
     "output_type": "execute_result"
    }
   ],
   "source": [
    "toronto_df.head()"
   ]
  },
  {
   "cell_type": "markdown",
   "metadata": {},
   "source": [
    "# METHODOLOGY:\n",
    "\n",
    "For this report I will use a k cluster method that could help to new joiner to shift that particular location is good or not \n"
   ]
  },
  {
   "cell_type": "markdown",
   "metadata": {},
   "source": [
    "END OF PART 1"
   ]
  },
  {
   "cell_type": "code",
   "execution_count": 13,
   "metadata": {},
   "outputs": [],
   "source": [
    "geodf=pd.read_csv(\"Geospatial_Coordinates.csv\")"
   ]
  },
  {
   "cell_type": "code",
   "execution_count": 14,
   "metadata": {},
   "outputs": [
    {
     "data": {
      "text/html": [
       "<div>\n",
       "<style scoped>\n",
       "    .dataframe tbody tr th:only-of-type {\n",
       "        vertical-align: middle;\n",
       "    }\n",
       "\n",
       "    .dataframe tbody tr th {\n",
       "        vertical-align: top;\n",
       "    }\n",
       "\n",
       "    .dataframe thead th {\n",
       "        text-align: right;\n",
       "    }\n",
       "</style>\n",
       "<table border=\"1\" class=\"dataframe\">\n",
       "  <thead>\n",
       "    <tr style=\"text-align: right;\">\n",
       "      <th></th>\n",
       "      <th>Postal Code</th>\n",
       "      <th>Latitude</th>\n",
       "      <th>Longitude</th>\n",
       "    </tr>\n",
       "  </thead>\n",
       "  <tbody>\n",
       "    <tr>\n",
       "      <th>0</th>\n",
       "      <td>M1B</td>\n",
       "      <td>43.806686</td>\n",
       "      <td>-79.194353</td>\n",
       "    </tr>\n",
       "    <tr>\n",
       "      <th>1</th>\n",
       "      <td>M1C</td>\n",
       "      <td>43.784535</td>\n",
       "      <td>-79.160497</td>\n",
       "    </tr>\n",
       "    <tr>\n",
       "      <th>2</th>\n",
       "      <td>M1E</td>\n",
       "      <td>43.763573</td>\n",
       "      <td>-79.188711</td>\n",
       "    </tr>\n",
       "    <tr>\n",
       "      <th>3</th>\n",
       "      <td>M1G</td>\n",
       "      <td>43.770992</td>\n",
       "      <td>-79.216917</td>\n",
       "    </tr>\n",
       "    <tr>\n",
       "      <th>4</th>\n",
       "      <td>M1H</td>\n",
       "      <td>43.773136</td>\n",
       "      <td>-79.239476</td>\n",
       "    </tr>\n",
       "  </tbody>\n",
       "</table>\n",
       "</div>"
      ],
      "text/plain": [
       "  Postal Code   Latitude  Longitude\n",
       "0         M1B  43.806686 -79.194353\n",
       "1         M1C  43.784535 -79.160497\n",
       "2         M1E  43.763573 -79.188711\n",
       "3         M1G  43.770992 -79.216917\n",
       "4         M1H  43.773136 -79.239476"
      ]
     },
     "execution_count": 14,
     "metadata": {},
     "output_type": "execute_result"
    }
   ],
   "source": [
    "geodf.head()"
   ]
  },
  {
   "cell_type": "code",
   "execution_count": 15,
   "metadata": {},
   "outputs": [],
   "source": [
    "geodf.rename({'Postal Code': 'Postal code', 'Latitude': 'Latitude','Longitude':'Longitude'}, axis=1, inplace=True)"
   ]
  },
  {
   "cell_type": "code",
   "execution_count": 16,
   "metadata": {},
   "outputs": [
    {
     "data": {
      "text/html": [
       "<div>\n",
       "<style scoped>\n",
       "    .dataframe tbody tr th:only-of-type {\n",
       "        vertical-align: middle;\n",
       "    }\n",
       "\n",
       "    .dataframe tbody tr th {\n",
       "        vertical-align: top;\n",
       "    }\n",
       "\n",
       "    .dataframe thead th {\n",
       "        text-align: right;\n",
       "    }\n",
       "</style>\n",
       "<table border=\"1\" class=\"dataframe\">\n",
       "  <thead>\n",
       "    <tr style=\"text-align: right;\">\n",
       "      <th></th>\n",
       "      <th>Postal code</th>\n",
       "      <th>Latitude</th>\n",
       "      <th>Longitude</th>\n",
       "    </tr>\n",
       "  </thead>\n",
       "  <tbody>\n",
       "    <tr>\n",
       "      <th>0</th>\n",
       "      <td>M1B</td>\n",
       "      <td>43.806686</td>\n",
       "      <td>-79.194353</td>\n",
       "    </tr>\n",
       "    <tr>\n",
       "      <th>1</th>\n",
       "      <td>M1C</td>\n",
       "      <td>43.784535</td>\n",
       "      <td>-79.160497</td>\n",
       "    </tr>\n",
       "    <tr>\n",
       "      <th>2</th>\n",
       "      <td>M1E</td>\n",
       "      <td>43.763573</td>\n",
       "      <td>-79.188711</td>\n",
       "    </tr>\n",
       "    <tr>\n",
       "      <th>3</th>\n",
       "      <td>M1G</td>\n",
       "      <td>43.770992</td>\n",
       "      <td>-79.216917</td>\n",
       "    </tr>\n",
       "    <tr>\n",
       "      <th>4</th>\n",
       "      <td>M1H</td>\n",
       "      <td>43.773136</td>\n",
       "      <td>-79.239476</td>\n",
       "    </tr>\n",
       "  </tbody>\n",
       "</table>\n",
       "</div>"
      ],
      "text/plain": [
       "  Postal code   Latitude  Longitude\n",
       "0         M1B  43.806686 -79.194353\n",
       "1         M1C  43.784535 -79.160497\n",
       "2         M1E  43.763573 -79.188711\n",
       "3         M1G  43.770992 -79.216917\n",
       "4         M1H  43.773136 -79.239476"
      ]
     },
     "execution_count": 16,
     "metadata": {},
     "output_type": "execute_result"
    }
   ],
   "source": [
    "geodf.head()"
   ]
  },
  {
   "cell_type": "code",
   "execution_count": 17,
   "metadata": {},
   "outputs": [],
   "source": [
    "result = pd.merge(toronto_df, geodf)"
   ]
  },
  {
   "cell_type": "code",
   "execution_count": 18,
   "metadata": {},
   "outputs": [
    {
     "data": {
      "text/html": [
       "<div>\n",
       "<style scoped>\n",
       "    .dataframe tbody tr th:only-of-type {\n",
       "        vertical-align: middle;\n",
       "    }\n",
       "\n",
       "    .dataframe tbody tr th {\n",
       "        vertical-align: top;\n",
       "    }\n",
       "\n",
       "    .dataframe thead th {\n",
       "        text-align: right;\n",
       "    }\n",
       "</style>\n",
       "<table border=\"1\" class=\"dataframe\">\n",
       "  <thead>\n",
       "    <tr style=\"text-align: right;\">\n",
       "      <th></th>\n",
       "      <th>Postal code</th>\n",
       "      <th>Borough</th>\n",
       "      <th>Neighborhood</th>\n",
       "      <th>Latitude</th>\n",
       "      <th>Longitude</th>\n",
       "    </tr>\n",
       "  </thead>\n",
       "  <tbody>\n",
       "    <tr>\n",
       "      <th>0</th>\n",
       "      <td>M3A</td>\n",
       "      <td>North York</td>\n",
       "      <td>Parkwoods</td>\n",
       "      <td>43.753259</td>\n",
       "      <td>-79.329656</td>\n",
       "    </tr>\n",
       "    <tr>\n",
       "      <th>1</th>\n",
       "      <td>M4A</td>\n",
       "      <td>North York</td>\n",
       "      <td>Victoria Village</td>\n",
       "      <td>43.725882</td>\n",
       "      <td>-79.315572</td>\n",
       "    </tr>\n",
       "    <tr>\n",
       "      <th>2</th>\n",
       "      <td>M5A</td>\n",
       "      <td>Downtown Toronto</td>\n",
       "      <td>Regent Park / Harbourfront</td>\n",
       "      <td>43.654260</td>\n",
       "      <td>-79.360636</td>\n",
       "    </tr>\n",
       "    <tr>\n",
       "      <th>3</th>\n",
       "      <td>M6A</td>\n",
       "      <td>North York</td>\n",
       "      <td>Lawrence Manor / Lawrence Heights</td>\n",
       "      <td>43.718518</td>\n",
       "      <td>-79.464763</td>\n",
       "    </tr>\n",
       "    <tr>\n",
       "      <th>4</th>\n",
       "      <td>M7A</td>\n",
       "      <td>Downtown Toronto</td>\n",
       "      <td>Queen's Park / Ontario Provincial Government</td>\n",
       "      <td>43.662301</td>\n",
       "      <td>-79.389494</td>\n",
       "    </tr>\n",
       "  </tbody>\n",
       "</table>\n",
       "</div>"
      ],
      "text/plain": [
       "  Postal code           Borough                                  Neighborhood  \\\n",
       "0         M3A        North York                                     Parkwoods   \n",
       "1         M4A        North York                              Victoria Village   \n",
       "2         M5A  Downtown Toronto                    Regent Park / Harbourfront   \n",
       "3         M6A        North York             Lawrence Manor / Lawrence Heights   \n",
       "4         M7A  Downtown Toronto  Queen's Park / Ontario Provincial Government   \n",
       "\n",
       "    Latitude  Longitude  \n",
       "0  43.753259 -79.329656  \n",
       "1  43.725882 -79.315572  \n",
       "2  43.654260 -79.360636  \n",
       "3  43.718518 -79.464763  \n",
       "4  43.662301 -79.389494  "
      ]
     },
     "execution_count": 18,
     "metadata": {},
     "output_type": "execute_result"
    }
   ],
   "source": [
    "result.head()"
   ]
  },
  {
   "cell_type": "code",
   "execution_count": 20,
   "metadata": {},
   "outputs": [],
   "source": [
    "from geopy.geocoders import Nominatim"
   ]
  },
  {
   "cell_type": "code",
   "execution_count": 21,
   "metadata": {},
   "outputs": [],
   "source": [
    "import numpy as np\n",
    "import matplotlib.cm as cm\n",
    "import matplotlib.colors as colors"
   ]
  },
  {
   "cell_type": "code",
   "execution_count": 23,
   "metadata": {},
   "outputs": [],
   "source": [
    "from sklearn.cluster import KMeans\n",
    "import folium"
   ]
  },
  {
   "cell_type": "code",
   "execution_count": 24,
   "metadata": {},
   "outputs": [],
   "source": [
    "result1=result.iloc[:,1:]"
   ]
  },
  {
   "cell_type": "code",
   "execution_count": 25,
   "metadata": {},
   "outputs": [
    {
     "data": {
      "text/html": [
       "<div>\n",
       "<style scoped>\n",
       "    .dataframe tbody tr th:only-of-type {\n",
       "        vertical-align: middle;\n",
       "    }\n",
       "\n",
       "    .dataframe tbody tr th {\n",
       "        vertical-align: top;\n",
       "    }\n",
       "\n",
       "    .dataframe thead th {\n",
       "        text-align: right;\n",
       "    }\n",
       "</style>\n",
       "<table border=\"1\" class=\"dataframe\">\n",
       "  <thead>\n",
       "    <tr style=\"text-align: right;\">\n",
       "      <th></th>\n",
       "      <th>Borough</th>\n",
       "      <th>Neighborhood</th>\n",
       "      <th>Latitude</th>\n",
       "      <th>Longitude</th>\n",
       "    </tr>\n",
       "  </thead>\n",
       "  <tbody>\n",
       "    <tr>\n",
       "      <th>0</th>\n",
       "      <td>North York</td>\n",
       "      <td>Parkwoods</td>\n",
       "      <td>43.753259</td>\n",
       "      <td>-79.329656</td>\n",
       "    </tr>\n",
       "    <tr>\n",
       "      <th>1</th>\n",
       "      <td>North York</td>\n",
       "      <td>Victoria Village</td>\n",
       "      <td>43.725882</td>\n",
       "      <td>-79.315572</td>\n",
       "    </tr>\n",
       "    <tr>\n",
       "      <th>2</th>\n",
       "      <td>Downtown Toronto</td>\n",
       "      <td>Regent Park / Harbourfront</td>\n",
       "      <td>43.654260</td>\n",
       "      <td>-79.360636</td>\n",
       "    </tr>\n",
       "    <tr>\n",
       "      <th>3</th>\n",
       "      <td>North York</td>\n",
       "      <td>Lawrence Manor / Lawrence Heights</td>\n",
       "      <td>43.718518</td>\n",
       "      <td>-79.464763</td>\n",
       "    </tr>\n",
       "    <tr>\n",
       "      <th>4</th>\n",
       "      <td>Downtown Toronto</td>\n",
       "      <td>Queen's Park / Ontario Provincial Government</td>\n",
       "      <td>43.662301</td>\n",
       "      <td>-79.389494</td>\n",
       "    </tr>\n",
       "  </tbody>\n",
       "</table>\n",
       "</div>"
      ],
      "text/plain": [
       "            Borough                                  Neighborhood   Latitude  \\\n",
       "0        North York                                     Parkwoods  43.753259   \n",
       "1        North York                              Victoria Village  43.725882   \n",
       "2  Downtown Toronto                    Regent Park / Harbourfront  43.654260   \n",
       "3        North York             Lawrence Manor / Lawrence Heights  43.718518   \n",
       "4  Downtown Toronto  Queen's Park / Ontario Provincial Government  43.662301   \n",
       "\n",
       "   Longitude  \n",
       "0 -79.329656  \n",
       "1 -79.315572  \n",
       "2 -79.360636  \n",
       "3 -79.464763  \n",
       "4 -79.389494  "
      ]
     },
     "execution_count": 25,
     "metadata": {},
     "output_type": "execute_result"
    }
   ],
   "source": [
    "result1.head()"
   ]
  },
  {
   "cell_type": "code",
   "execution_count": 26,
   "metadata": {},
   "outputs": [
    {
     "data": {
      "text/plain": [
       "(103, 4)"
      ]
     },
     "execution_count": 26,
     "metadata": {},
     "output_type": "execute_result"
    }
   ],
   "source": [
    "result1.shape"
   ]
  },
  {
   "cell_type": "code",
   "execution_count": 28,
   "metadata": {},
   "outputs": [
    {
     "name": "stdout",
     "output_type": "stream",
     "text": [
      "The geograpical coordinate of North York are 40.741235950000004, -73.35669116536101.\n"
     ]
    }
   ],
   "source": [
    "address = 'North York, NY'\n",
    "geolocator = Nominatim(user_agent=\"ny_explorer\")\n",
    "location = geolocator.geocode(address)\n",
    "latitude = location.latitude\n",
    "longitude = location.longitude\n",
    "print('The geograpical coordinate of North York are {}, {}.'.format(latitude, longitude))"
   ]
  },
  {
   "cell_type": "code",
   "execution_count": 29,
   "metadata": {},
   "outputs": [
    {
     "data": {
      "text/html": [
       "<div style=\"width:100%;\"><div style=\"position:relative;width:100%;height:0;padding-bottom:60%;\"><iframe src=\"about:blank\" style=\"position:absolute;width:100%;height:100%;left:0;top:0;border:none !important;\" data-html=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 onload=\"this.contentDocument.open();this.contentDocument.write(atob(this.getAttribute('data-html')));this.contentDocument.close();\" allowfullscreen webkitallowfullscreen mozallowfullscreen></iframe></div></div>"
      ],
      "text/plain": [
       "<folium.folium.Map at 0x21548b19b38>"
      ]
     },
     "execution_count": 29,
     "metadata": {},
     "output_type": "execute_result"
    }
   ],
   "source": [
    "# create map of New York using latitude and longitude values\n",
    "map_newyork = folium.Map(location=[latitude, longitude], zoom_start=10)\n",
    "\n",
    "# add markers to map\n",
    "for lat, lng, borough, neighborhood in zip(result1['Latitude'], result1['Longitude'], result1['Borough'], result1['Neighborhood']):\n",
    "    label = '{}, {}'.format(neighborhood, borough)\n",
    "    label = folium.Popup(label, parse_html=True)\n",
    "    folium.CircleMarker(\n",
    "        [lat, lng],\n",
    "        radius=5,\n",
    "        popup=label,\n",
    "        color='blue',\n",
    "        fill=True,\n",
    "        fill_color='#3186cc',\n",
    "        fill_opacity=0.7,\n",
    "        parse_html=False).add_to(map_newyork)  \n",
    "    \n",
    "map_newyork\n"
   ]
  },
  {
   "cell_type": "code",
   "execution_count": 30,
   "metadata": {},
   "outputs": [
    {
     "name": "stdout",
     "output_type": "stream",
     "text": [
      "Your credentails:\n",
      "CLIENT_ID: JAF1W505F51KJWCELTECRVWBLH1WGV5YUS2K0QUSM2RQI15B\n",
      "CLIENT_SECRET:NA5JBMTQH3CZVRU0D5YNPBUWBWFPXLWO1DDZ0V34SDUHM0LO\n"
     ]
    }
   ],
   "source": [
    "CLIENT_ID = 'JAF1W505F51KJWCELTECRVWBLH1WGV5YUS2K0QUSM2RQI15B'\n",
    "CLIENT_SECRET = 'NA5JBMTQH3CZVRU0D5YNPBUWBWFPXLWO1DDZ0V34SDUHM0LO'\n",
    "VERSION = '20180605' # Foursquare API version\n",
    "\n",
    "print('Your credentails:')\n",
    "print('CLIENT_ID: ' + CLIENT_ID)\n",
    "print('CLIENT_SECRET:' + CLIENT_SECRET)"
   ]
  },
  {
   "cell_type": "code",
   "execution_count": 33,
   "metadata": {},
   "outputs": [
    {
     "data": {
      "text/html": [
       "<div>\n",
       "<style scoped>\n",
       "    .dataframe tbody tr th:only-of-type {\n",
       "        vertical-align: middle;\n",
       "    }\n",
       "\n",
       "    .dataframe tbody tr th {\n",
       "        vertical-align: top;\n",
       "    }\n",
       "\n",
       "    .dataframe thead th {\n",
       "        text-align: right;\n",
       "    }\n",
       "</style>\n",
       "<table border=\"1\" class=\"dataframe\">\n",
       "  <thead>\n",
       "    <tr style=\"text-align: right;\">\n",
       "      <th></th>\n",
       "      <th>Borough</th>\n",
       "      <th>Neighborhood</th>\n",
       "      <th>Latitude</th>\n",
       "      <th>Longitude</th>\n",
       "    </tr>\n",
       "  </thead>\n",
       "  <tbody>\n",
       "    <tr>\n",
       "      <th>0</th>\n",
       "      <td>North York</td>\n",
       "      <td>Parkwoods</td>\n",
       "      <td>43.753259</td>\n",
       "      <td>-79.329656</td>\n",
       "    </tr>\n",
       "    <tr>\n",
       "      <th>1</th>\n",
       "      <td>North York</td>\n",
       "      <td>Victoria Village</td>\n",
       "      <td>43.725882</td>\n",
       "      <td>-79.315572</td>\n",
       "    </tr>\n",
       "    <tr>\n",
       "      <th>2</th>\n",
       "      <td>North York</td>\n",
       "      <td>Lawrence Manor / Lawrence Heights</td>\n",
       "      <td>43.718518</td>\n",
       "      <td>-79.464763</td>\n",
       "    </tr>\n",
       "    <tr>\n",
       "      <th>3</th>\n",
       "      <td>North York</td>\n",
       "      <td>Don Mills</td>\n",
       "      <td>43.745906</td>\n",
       "      <td>-79.352188</td>\n",
       "    </tr>\n",
       "    <tr>\n",
       "      <th>4</th>\n",
       "      <td>North York</td>\n",
       "      <td>Glencairn</td>\n",
       "      <td>43.709577</td>\n",
       "      <td>-79.445073</td>\n",
       "    </tr>\n",
       "  </tbody>\n",
       "</table>\n",
       "</div>"
      ],
      "text/plain": [
       "      Borough                       Neighborhood   Latitude  Longitude\n",
       "0  North York                          Parkwoods  43.753259 -79.329656\n",
       "1  North York                   Victoria Village  43.725882 -79.315572\n",
       "2  North York  Lawrence Manor / Lawrence Heights  43.718518 -79.464763\n",
       "3  North York                          Don Mills  43.745906 -79.352188\n",
       "4  North York                          Glencairn  43.709577 -79.445073"
      ]
     },
     "execution_count": 33,
     "metadata": {},
     "output_type": "execute_result"
    }
   ],
   "source": [
    "North_York_data = result1[result1['Borough'] == 'North York'].reset_index(drop=True)\n",
    "North_York_data.head()"
   ]
  },
  {
   "cell_type": "code",
   "execution_count": 35,
   "metadata": {},
   "outputs": [
    {
     "name": "stdout",
     "output_type": "stream",
     "text": [
      "Latitude and longitude values of Parkwoods are 43.7532586, -79.3296565.\n"
     ]
    }
   ],
   "source": [
    "North_York_data.loc[0, 'Neighborhood']\n",
    "\n",
    "neighborhood_latitude = North_York_data.loc[0, 'Latitude'] \n",
    "neighborhood_longitude = North_York_data.loc[0, 'Longitude']\n",
    "\n",
    "neighborhood_name = North_York_data.loc[0, 'Neighborhood']\n",
    "\n",
    "print('Latitude and longitude values of {} are {}, {}.'.format(neighborhood_name, \n",
    "                                                               neighborhood_latitude, \n",
    "                                                               neighborhood_longitude))"
   ]
  },
  {
   "cell_type": "code",
   "execution_count": 36,
   "metadata": {},
   "outputs": [
    {
     "data": {
      "text/plain": [
       "'Parkwoods'"
      ]
     },
     "execution_count": 36,
     "metadata": {},
     "output_type": "execute_result"
    }
   ],
   "source": [
    "North_York_data.loc[0, 'Neighborhood']"
   ]
  },
  {
   "cell_type": "code",
   "execution_count": 37,
   "metadata": {},
   "outputs": [
    {
     "data": {
      "text/plain": [
       "'https://api.foursquare.com/v2/venues/explore?&client_id=JAF1W505F51KJWCELTECRVWBLH1WGV5YUS2K0QUSM2RQI15B&client_secret=NA5JBMTQH3CZVRU0D5YNPBUWBWFPXLWO1DDZ0V34SDUHM0LO&v=20180605&ll=43.7532586,-79.3296565&radius=500&limit=100'"
      ]
     },
     "execution_count": 37,
     "metadata": {},
     "output_type": "execute_result"
    }
   ],
   "source": [
    "LIMIT = 100\n",
    "radius = 500\n",
    "url = 'https://api.foursquare.com/v2/venues/explore?&client_id={}&client_secret={}&v={}&ll={},{}&radius={}&limit={}'.format(\n",
    "    CLIENT_ID, \n",
    "    CLIENT_SECRET, \n",
    "    VERSION, \n",
    "    neighborhood_latitude, \n",
    "    neighborhood_longitude, \n",
    "    radius, \n",
    "    LIMIT)\n",
    "url # display URL\n"
   ]
  },
  {
   "cell_type": "code",
   "execution_count": 38,
   "metadata": {},
   "outputs": [],
   "source": [
    "import json"
   ]
  },
  {
   "cell_type": "code",
   "execution_count": 39,
   "metadata": {},
   "outputs": [
    {
     "data": {
      "text/plain": [
       "{'meta': {'code': 200, 'requestId': '5e894fe1da9e14001b2fdc72'},\n",
       " 'response': {'warning': {'text': \"There aren't a lot of results near you. Try something more general, reset your filters, or expand the search area.\"},\n",
       "  'headerLocation': 'Parkwoods - Donalda',\n",
       "  'headerFullLocation': 'Parkwoods - Donalda, Toronto',\n",
       "  'headerLocationGranularity': 'neighborhood',\n",
       "  'totalResults': 2,\n",
       "  'suggestedBounds': {'ne': {'lat': 43.757758604500005,\n",
       "    'lng': -79.32343823984928},\n",
       "   'sw': {'lat': 43.7487585955, 'lng': -79.33587476015072}},\n",
       "  'groups': [{'type': 'Recommended Places',\n",
       "    'name': 'recommended',\n",
       "    'items': [{'reasons': {'count': 0,\n",
       "       'items': [{'summary': 'This spot is popular',\n",
       "         'type': 'general',\n",
       "         'reasonName': 'globalInteractionReason'}]},\n",
       "      'venue': {'id': '4e8d9dcdd5fbbbb6b3003c7b',\n",
       "       'name': 'Brookbanks Park',\n",
       "       'location': {'address': 'Toronto',\n",
       "        'lat': 43.751976046055574,\n",
       "        'lng': -79.33214044722958,\n",
       "        'labeledLatLngs': [{'label': 'display',\n",
       "          'lat': 43.751976046055574,\n",
       "          'lng': -79.33214044722958}],\n",
       "        'distance': 245,\n",
       "        'cc': 'CA',\n",
       "        'city': 'Toronto',\n",
       "        'state': 'ON',\n",
       "        'country': 'Canada',\n",
       "        'formattedAddress': ['Toronto', 'Toronto ON', 'Canada']},\n",
       "       'categories': [{'id': '4bf58dd8d48988d163941735',\n",
       "         'name': 'Park',\n",
       "         'pluralName': 'Parks',\n",
       "         'shortName': 'Park',\n",
       "         'icon': {'prefix': 'https://ss3.4sqi.net/img/categories_v2/parks_outdoors/park_',\n",
       "          'suffix': '.png'},\n",
       "         'primary': True}],\n",
       "       'photos': {'count': 0, 'groups': []}},\n",
       "      'referralId': 'e-0-4e8d9dcdd5fbbbb6b3003c7b-0'},\n",
       "     {'reasons': {'count': 0,\n",
       "       'items': [{'summary': 'This spot is popular',\n",
       "         'type': 'general',\n",
       "         'reasonName': 'globalInteractionReason'}]},\n",
       "      'venue': {'id': '4cb11e2075ebb60cd1c4caad',\n",
       "       'name': 'Variety Store',\n",
       "       'location': {'address': '29 Valley Woods Road',\n",
       "        'lat': 43.75197441585782,\n",
       "        'lng': -79.33311418516017,\n",
       "        'labeledLatLngs': [{'label': 'display',\n",
       "          'lat': 43.75197441585782,\n",
       "          'lng': -79.33311418516017}],\n",
       "        'distance': 312,\n",
       "        'cc': 'CA',\n",
       "        'city': 'Toronto',\n",
       "        'state': 'ON',\n",
       "        'country': 'Canada',\n",
       "        'formattedAddress': ['29 Valley Woods Road', 'Toronto ON', 'Canada']},\n",
       "       'categories': [{'id': '4bf58dd8d48988d1f9941735',\n",
       "         'name': 'Food & Drink Shop',\n",
       "         'pluralName': 'Food & Drink Shops',\n",
       "         'shortName': 'Food & Drink',\n",
       "         'icon': {'prefix': 'https://ss3.4sqi.net/img/categories_v2/shops/foodanddrink_',\n",
       "          'suffix': '.png'},\n",
       "         'primary': True}],\n",
       "       'photos': {'count': 0, 'groups': []}},\n",
       "      'referralId': 'e-0-4cb11e2075ebb60cd1c4caad-1'}]}]}}"
      ]
     },
     "execution_count": 39,
     "metadata": {},
     "output_type": "execute_result"
    }
   ],
   "source": [
    "results = requests.get(url).json()\n",
    "results"
   ]
  },
  {
   "cell_type": "code",
   "execution_count": 40,
   "metadata": {},
   "outputs": [],
   "source": [
    "# function that extracts the category of the venue\n",
    "def get_category_type(row):\n",
    "    try:\n",
    "        categories_list = row['categories']\n",
    "    except:\n",
    "        categories_list = row['venue.categories']\n",
    "        \n",
    "    if len(categories_list) == 0:\n",
    "        return None\n",
    "    else:\n",
    "        return categories_list[0]['name']"
   ]
  },
  {
   "cell_type": "code",
   "execution_count": 42,
   "metadata": {},
   "outputs": [],
   "source": [
    "from pandas.io.json import json_normalize"
   ]
  },
  {
   "cell_type": "code",
   "execution_count": 43,
   "metadata": {},
   "outputs": [
    {
     "data": {
      "text/html": [
       "<div>\n",
       "<style scoped>\n",
       "    .dataframe tbody tr th:only-of-type {\n",
       "        vertical-align: middle;\n",
       "    }\n",
       "\n",
       "    .dataframe tbody tr th {\n",
       "        vertical-align: top;\n",
       "    }\n",
       "\n",
       "    .dataframe thead th {\n",
       "        text-align: right;\n",
       "    }\n",
       "</style>\n",
       "<table border=\"1\" class=\"dataframe\">\n",
       "  <thead>\n",
       "    <tr style=\"text-align: right;\">\n",
       "      <th></th>\n",
       "      <th>name</th>\n",
       "      <th>categories</th>\n",
       "      <th>lat</th>\n",
       "      <th>lng</th>\n",
       "    </tr>\n",
       "  </thead>\n",
       "  <tbody>\n",
       "    <tr>\n",
       "      <th>0</th>\n",
       "      <td>Brookbanks Park</td>\n",
       "      <td>Park</td>\n",
       "      <td>43.751976</td>\n",
       "      <td>-79.332140</td>\n",
       "    </tr>\n",
       "    <tr>\n",
       "      <th>1</th>\n",
       "      <td>Variety Store</td>\n",
       "      <td>Food &amp; Drink Shop</td>\n",
       "      <td>43.751974</td>\n",
       "      <td>-79.333114</td>\n",
       "    </tr>\n",
       "  </tbody>\n",
       "</table>\n",
       "</div>"
      ],
      "text/plain": [
       "              name         categories        lat        lng\n",
       "0  Brookbanks Park               Park  43.751976 -79.332140\n",
       "1    Variety Store  Food & Drink Shop  43.751974 -79.333114"
      ]
     },
     "execution_count": 43,
     "metadata": {},
     "output_type": "execute_result"
    }
   ],
   "source": [
    "\n",
    "venues = results['response']['groups'][0]['items']\n",
    "    \n",
    "nearby_venues = json_normalize(venues) # flatten JSON\n",
    "\n",
    "# filter columns\n",
    "filtered_columns = ['venue.name', 'venue.categories', 'venue.location.lat', 'venue.location.lng']\n",
    "nearby_venues =nearby_venues.loc[:, filtered_columns]\n",
    "\n",
    "# filter the category for each row\n",
    "nearby_venues['venue.categories'] = nearby_venues.apply(get_category_type, axis=1)\n",
    "\n",
    "# clean columns\n",
    "nearby_venues.columns = [col.split(\".\")[-1] for col in nearby_venues.columns]\n",
    "\n",
    "nearby_venues.head()"
   ]
  },
  {
   "cell_type": "code",
   "execution_count": 44,
   "metadata": {},
   "outputs": [
    {
     "name": "stdout",
     "output_type": "stream",
     "text": [
      "2 venues were returned by Foursquare.\n"
     ]
    }
   ],
   "source": [
    "print('{} venues were returned by Foursquare.'.format(nearby_venues.shape[0]))"
   ]
  },
  {
   "cell_type": "markdown",
   "metadata": {},
   "source": [
    "# Based on nearby store and park , new joiner will decide whethere he/she has to move that place or not"
   ]
  },
  {
   "cell_type": "code",
   "execution_count": null,
   "metadata": {},
   "outputs": [],
   "source": []
  }
 ],
 "metadata": {
  "kernelspec": {
   "display_name": "Python 3",
   "language": "python",
   "name": "python3"
  },
  "language_info": {
   "codemirror_mode": {
    "name": "ipython",
    "version": 3
   },
   "file_extension": ".py",
   "mimetype": "text/x-python",
   "name": "python",
   "nbconvert_exporter": "python",
   "pygments_lexer": "ipython3",
   "version": "3.7.1"
  }
 },
 "nbformat": 4,
 "nbformat_minor": 2
}
